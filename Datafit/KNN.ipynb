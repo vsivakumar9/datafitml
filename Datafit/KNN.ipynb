{
 "cells": [
  {
   "cell_type": "code",
   "execution_count": 1,
   "metadata": {},
   "outputs": [],
   "source": [
    "import matplotlib.pyplot as plt\n",
    "from sklearn.neighbors import KNeighborsClassifier\n",
    "import pandas as pd\n",
    "import os"
   ]
  },
  {
   "cell_type": "code",
   "execution_count": 2,
   "metadata": {},
   "outputs": [
    {
     "data": {
      "text/html": [
       "<div>\n",
       "<style scoped>\n",
       "    .dataframe tbody tr th:only-of-type {\n",
       "        vertical-align: middle;\n",
       "    }\n",
       "\n",
       "    .dataframe tbody tr th {\n",
       "        vertical-align: top;\n",
       "    }\n",
       "\n",
       "    .dataframe thead th {\n",
       "        text-align: right;\n",
       "    }\n",
       "</style>\n",
       "<table border=\"1\" class=\"dataframe\">\n",
       "  <thead>\n",
       "    <tr style=\"text-align: right;\">\n",
       "      <th></th>\n",
       "      <th>Brand</th>\n",
       "      <th>Fabric</th>\n",
       "      <th>Bust</th>\n",
       "      <th>Height</th>\n",
       "      <th>Hip</th>\n",
       "      <th>Length</th>\n",
       "      <th>Size</th>\n",
       "    </tr>\n",
       "  </thead>\n",
       "  <tbody>\n",
       "    <tr>\n",
       "      <th>0</th>\n",
       "      <td>Amazon</td>\n",
       "      <td>Silk</td>\n",
       "      <td>32.0</td>\n",
       "      <td>5.6</td>\n",
       "      <td>37.000000</td>\n",
       "      <td>just right</td>\n",
       "      <td>4</td>\n",
       "    </tr>\n",
       "    <tr>\n",
       "      <th>1</th>\n",
       "      <td>Macys</td>\n",
       "      <td>Cotton</td>\n",
       "      <td>34.0</td>\n",
       "      <td>5.6</td>\n",
       "      <td>36.000000</td>\n",
       "      <td>slightly short</td>\n",
       "      <td>4</td>\n",
       "    </tr>\n",
       "    <tr>\n",
       "      <th>2</th>\n",
       "      <td>Macys</td>\n",
       "      <td>Cotton</td>\n",
       "      <td>34.0</td>\n",
       "      <td>5.3</td>\n",
       "      <td>40.358501</td>\n",
       "      <td>just right</td>\n",
       "      <td>4</td>\n",
       "    </tr>\n",
       "    <tr>\n",
       "      <th>3</th>\n",
       "      <td>Nordstorm</td>\n",
       "      <td>Cotton</td>\n",
       "      <td>32.0</td>\n",
       "      <td>5.1</td>\n",
       "      <td>35.000000</td>\n",
       "      <td>slightly long</td>\n",
       "      <td>4</td>\n",
       "    </tr>\n",
       "    <tr>\n",
       "      <th>4</th>\n",
       "      <td>Amazon</td>\n",
       "      <td>Silk</td>\n",
       "      <td>32.0</td>\n",
       "      <td>5.6</td>\n",
       "      <td>32.000000</td>\n",
       "      <td>just right</td>\n",
       "      <td>4</td>\n",
       "    </tr>\n",
       "  </tbody>\n",
       "</table>\n",
       "</div>"
      ],
      "text/plain": [
       "       Brand  Fabric  Bust  Height        Hip          Length  Size\n",
       "0     Amazon    Silk  32.0     5.6  37.000000      just right     4\n",
       "1      Macys  Cotton  34.0     5.6  36.000000  slightly short     4\n",
       "2      Macys  Cotton  34.0     5.3  40.358501      just right     4\n",
       "3  Nordstorm  Cotton  32.0     5.1  35.000000   slightly long     4\n",
       "4     Amazon    Silk  32.0     5.6  32.000000      just right     4"
      ]
     },
     "execution_count": 2,
     "metadata": {},
     "output_type": "execute_result"
    }
   ],
   "source": [
    "df = pd.read_csv(os.path.join(\"Resources\", \"Decision_Tree.csv\"))\n",
    "df.head()"
   ]
  },
  {
   "cell_type": "code",
   "execution_count": 3,
   "metadata": {},
   "outputs": [
    {
     "data": {
      "text/plain": [
       "just right        55793\n",
       "slightly long     10552\n",
       "slightly short     5622\n",
       "very long          2288\n",
       "very short          722\n",
       "Name: Length, dtype: int64"
      ]
     },
     "execution_count": 3,
     "metadata": {},
     "output_type": "execute_result"
    }
   ],
   "source": [
    "df[\"Length\"].value_counts()"
   ]
  },
  {
   "cell_type": "code",
   "execution_count": 4,
   "metadata": {},
   "outputs": [],
   "source": [
    "df.Length = df.Length.replace({\"just right\": 1,\n",
    "                               \"slightly long\": 2,\n",
    "                               \"slightly short\": 3,\n",
    "                               \"very long\":4,\n",
    "                               \"very short\":5\n",
    "                              })"
   ]
  },
  {
   "cell_type": "code",
   "execution_count": 5,
   "metadata": {},
   "outputs": [
    {
     "data": {
      "text/plain": [
       "Crepe     15089\n",
       "Silk      14986\n",
       "Nylon     14971\n",
       "Denim     14969\n",
       "Cotton    14962\n",
       "Name: Fabric, dtype: int64"
      ]
     },
     "execution_count": 5,
     "metadata": {},
     "output_type": "execute_result"
    }
   ],
   "source": [
    "df[\"Fabric\"].value_counts()"
   ]
  },
  {
   "cell_type": "code",
   "execution_count": 6,
   "metadata": {},
   "outputs": [],
   "source": [
    "df.Fabric = df.Fabric.replace({\"Crepe\": 1,\n",
    "                               \"Silk\": 2,\n",
    "                               \"Nylon\": 3,\n",
    "                               \"Denim\":4,\n",
    "                               \"Cotton\":5\n",
    "                              })"
   ]
  },
  {
   "cell_type": "code",
   "execution_count": 7,
   "metadata": {},
   "outputs": [
    {
     "data": {
      "text/plain": [
       "Macys              18904\n",
       "Banana Republic    18777\n",
       "Nordstorm          18752\n",
       "Amazon             18544\n",
       "Name: Brand, dtype: int64"
      ]
     },
     "execution_count": 7,
     "metadata": {},
     "output_type": "execute_result"
    }
   ],
   "source": [
    "df[\"Brand\"].value_counts()"
   ]
  },
  {
   "cell_type": "code",
   "execution_count": 8,
   "metadata": {},
   "outputs": [],
   "source": [
    "df.Brand = df.Brand.replace({\"Macys\": 1,\n",
    "                               \"Banana Republic\": 2,\n",
    "                               \"Nordstorm\": 3,\n",
    "                               \"Amazon\":4\n",
    "                              })"
   ]
  },
  {
   "cell_type": "code",
   "execution_count": 9,
   "metadata": {},
   "outputs": [
    {
     "data": {
      "text/html": [
       "<div>\n",
       "<style scoped>\n",
       "    .dataframe tbody tr th:only-of-type {\n",
       "        vertical-align: middle;\n",
       "    }\n",
       "\n",
       "    .dataframe tbody tr th {\n",
       "        vertical-align: top;\n",
       "    }\n",
       "\n",
       "    .dataframe thead th {\n",
       "        text-align: right;\n",
       "    }\n",
       "</style>\n",
       "<table border=\"1\" class=\"dataframe\">\n",
       "  <thead>\n",
       "    <tr style=\"text-align: right;\">\n",
       "      <th></th>\n",
       "      <th>Brand</th>\n",
       "      <th>Fabric</th>\n",
       "      <th>Bust</th>\n",
       "      <th>Height</th>\n",
       "      <th>Hip</th>\n",
       "      <th>Length</th>\n",
       "      <th>Size</th>\n",
       "    </tr>\n",
       "  </thead>\n",
       "  <tbody>\n",
       "    <tr>\n",
       "      <th>0</th>\n",
       "      <td>4</td>\n",
       "      <td>2</td>\n",
       "      <td>32.0</td>\n",
       "      <td>5.6</td>\n",
       "      <td>37.000000</td>\n",
       "      <td>1</td>\n",
       "      <td>4</td>\n",
       "    </tr>\n",
       "    <tr>\n",
       "      <th>1</th>\n",
       "      <td>1</td>\n",
       "      <td>5</td>\n",
       "      <td>34.0</td>\n",
       "      <td>5.6</td>\n",
       "      <td>36.000000</td>\n",
       "      <td>3</td>\n",
       "      <td>4</td>\n",
       "    </tr>\n",
       "    <tr>\n",
       "      <th>2</th>\n",
       "      <td>1</td>\n",
       "      <td>5</td>\n",
       "      <td>34.0</td>\n",
       "      <td>5.3</td>\n",
       "      <td>40.358501</td>\n",
       "      <td>1</td>\n",
       "      <td>4</td>\n",
       "    </tr>\n",
       "    <tr>\n",
       "      <th>3</th>\n",
       "      <td>3</td>\n",
       "      <td>5</td>\n",
       "      <td>32.0</td>\n",
       "      <td>5.1</td>\n",
       "      <td>35.000000</td>\n",
       "      <td>2</td>\n",
       "      <td>4</td>\n",
       "    </tr>\n",
       "    <tr>\n",
       "      <th>4</th>\n",
       "      <td>4</td>\n",
       "      <td>2</td>\n",
       "      <td>32.0</td>\n",
       "      <td>5.6</td>\n",
       "      <td>32.000000</td>\n",
       "      <td>1</td>\n",
       "      <td>4</td>\n",
       "    </tr>\n",
       "  </tbody>\n",
       "</table>\n",
       "</div>"
      ],
      "text/plain": [
       "   Brand  Fabric  Bust  Height        Hip  Length  Size\n",
       "0      4       2  32.0     5.6  37.000000       1     4\n",
       "1      1       5  34.0     5.6  36.000000       3     4\n",
       "2      1       5  34.0     5.3  40.358501       1     4\n",
       "3      3       5  32.0     5.1  35.000000       2     4\n",
       "4      4       2  32.0     5.6  32.000000       1     4"
      ]
     },
     "execution_count": 9,
     "metadata": {},
     "output_type": "execute_result"
    }
   ],
   "source": [
    "df.head()"
   ]
  },
  {
   "cell_type": "code",
   "execution_count": 10,
   "metadata": {},
   "outputs": [],
   "source": [
    "df.to_csv(\"Resources/Decision_Tree_Final.csv\", index=False, header=True)"
   ]
  },
  {
   "cell_type": "code",
   "execution_count": 11,
   "metadata": {},
   "outputs": [],
   "source": [
    "target = df[\"Length\"]\n",
    "target_names = [\"Just Right\", \"Slightly Long\",\"Slightly Short\",\"Very Long\",\"Very Short\"]"
   ]
  },
  {
   "cell_type": "code",
   "execution_count": 12,
   "metadata": {},
   "outputs": [
    {
     "data": {
      "text/html": [
       "<div>\n",
       "<style scoped>\n",
       "    .dataframe tbody tr th:only-of-type {\n",
       "        vertical-align: middle;\n",
       "    }\n",
       "\n",
       "    .dataframe tbody tr th {\n",
       "        vertical-align: top;\n",
       "    }\n",
       "\n",
       "    .dataframe thead th {\n",
       "        text-align: right;\n",
       "    }\n",
       "</style>\n",
       "<table border=\"1\" class=\"dataframe\">\n",
       "  <thead>\n",
       "    <tr style=\"text-align: right;\">\n",
       "      <th></th>\n",
       "      <th>Brand</th>\n",
       "      <th>Fabric</th>\n",
       "      <th>Bust</th>\n",
       "      <th>Height</th>\n",
       "      <th>Hip</th>\n",
       "      <th>Size</th>\n",
       "    </tr>\n",
       "  </thead>\n",
       "  <tbody>\n",
       "    <tr>\n",
       "      <th>0</th>\n",
       "      <td>4</td>\n",
       "      <td>2</td>\n",
       "      <td>32.0</td>\n",
       "      <td>5.6</td>\n",
       "      <td>37.000000</td>\n",
       "      <td>4</td>\n",
       "    </tr>\n",
       "    <tr>\n",
       "      <th>1</th>\n",
       "      <td>1</td>\n",
       "      <td>5</td>\n",
       "      <td>34.0</td>\n",
       "      <td>5.6</td>\n",
       "      <td>36.000000</td>\n",
       "      <td>4</td>\n",
       "    </tr>\n",
       "    <tr>\n",
       "      <th>2</th>\n",
       "      <td>1</td>\n",
       "      <td>5</td>\n",
       "      <td>34.0</td>\n",
       "      <td>5.3</td>\n",
       "      <td>40.358501</td>\n",
       "      <td>4</td>\n",
       "    </tr>\n",
       "    <tr>\n",
       "      <th>3</th>\n",
       "      <td>3</td>\n",
       "      <td>5</td>\n",
       "      <td>32.0</td>\n",
       "      <td>5.1</td>\n",
       "      <td>35.000000</td>\n",
       "      <td>4</td>\n",
       "    </tr>\n",
       "    <tr>\n",
       "      <th>4</th>\n",
       "      <td>4</td>\n",
       "      <td>2</td>\n",
       "      <td>32.0</td>\n",
       "      <td>5.6</td>\n",
       "      <td>32.000000</td>\n",
       "      <td>4</td>\n",
       "    </tr>\n",
       "  </tbody>\n",
       "</table>\n",
       "</div>"
      ],
      "text/plain": [
       "   Brand  Fabric  Bust  Height        Hip  Size\n",
       "0      4       2  32.0     5.6  37.000000     4\n",
       "1      1       5  34.0     5.6  36.000000     4\n",
       "2      1       5  34.0     5.3  40.358501     4\n",
       "3      3       5  32.0     5.1  35.000000     4\n",
       "4      4       2  32.0     5.6  32.000000     4"
      ]
     },
     "execution_count": 12,
     "metadata": {},
     "output_type": "execute_result"
    }
   ],
   "source": [
    "data = df.drop(\"Length\", axis=1)\n",
    "feature_names = data.columns\n",
    "data.head()"
   ]
  },
  {
   "cell_type": "code",
   "execution_count": 13,
   "metadata": {},
   "outputs": [],
   "source": [
    "from sklearn.model_selection import train_test_split\n",
    "X_train, X_test, y_train, y_test = train_test_split(data, target, random_state=42)"
   ]
  },
  {
   "cell_type": "code",
   "execution_count": 14,
   "metadata": {},
   "outputs": [
    {
     "name": "stdout",
     "output_type": "stream",
     "text": [
      "k: 1, Train/Test Score: 0.840/0.583\n",
      "k: 3, Train/Test Score: 0.769/0.696\n",
      "k: 5, Train/Test Score: 0.753/0.722\n",
      "k: 7, Train/Test Score: 0.748/0.734\n",
      "k: 9, Train/Test Score: 0.746/0.738\n",
      "k: 11, Train/Test Score: 0.745/0.742\n",
      "k: 13, Train/Test Score: 0.744/0.743\n",
      "k: 15, Train/Test Score: 0.744/0.745\n",
      "k: 17, Train/Test Score: 0.744/0.746\n",
      "k: 19, Train/Test Score: 0.744/0.746\n"
     ]
    },
    {
     "data": {
      "image/png": "[encoded data removed]",
      "text/plain": [
       "<Figure size 432x288 with 1 Axes>"
      ]
     },
     "metadata": {},
     "output_type": "display_data"
    }
   ],
   "source": [
    "# Loop through different k values to see which has the highest accuracy\n",
    "# Note: We only use odd numbers because we don't want any ties\n",
    "train_scores = []\n",
    "test_scores = []\n",
    "for k in range(1, 20, 2):\n",
    "    knn = KNeighborsClassifier(n_neighbors=k)\n",
    "    knn.fit(X_train, y_train)\n",
    "    train_score = knn.score(X_train, y_train)\n",
    "    test_score = knn.score(X_test, y_test)\n",
    "    train_scores.append(train_score)\n",
    "    test_scores.append(test_score)\n",
    "    print(f\"k: {k}, Train/Test Score: {train_score:.3f}/{test_score:.3f}\")\n",
    "    \n",
    "    \n",
    "plt.plot(range(1, 20, 2), train_scores, marker='o')\n",
    "plt.plot(range(1, 20, 2), test_scores, marker=\"x\")\n",
    "plt.xlabel(\"k neighbors\")\n",
    "plt.ylabel(\"Testing accuracy Score\")\n",
    "plt.savefig('KNN.png')\n",
    "plt.show()"
   ]
  },
  {
   "cell_type": "markdown",
   "metadata": {},
   "source": [
    "k: 1, Train/Test Score: 0.840/0.583\n",
    "k: 3, Train/Test Score: 0.769/0.696\n",
    "k: 5, Train/Test Score: 0.753/0.722\n",
    "k: 7, Train/Test Score: 0.748/0.734\n",
    "k: 9, Train/Test Score: 0.746/0.738\n",
    "k: 11, Train/Test Score: 0.745/0.742\n",
    "k: 13, Train/Test Score: 0.744/0.743\n",
    "k: 15, Train/Test Score: 0.744/0.745\n",
    "k: 17, Train/Test Score: 0.744/0.746\n",
    "k: 19, Train/Test Score: 0.744/0.746\n",
    "        \n",
    "k: 10 seems to be the best choice for this dataset\n",
    "k=10 Test Acc: 0.741"
   ]
  },
  {
   "cell_type": "code",
   "execution_count": 19,
   "metadata": {},
   "outputs": [
    {
     "name": "stdout",
     "output_type": "stream",
     "text": [
      "k=10 Test Acc: 0.741\n"
     ]
    }
   ],
   "source": [
    "# Note that k: 10 seems to be the best choice for this dataset\n",
    "knn = KNeighborsClassifier(n_neighbors=10)\n",
    "knn.fit(X_train, y_train)\n",
    "print('k=10 Test Acc: %.3f' % knn.score(X_test, y_test))"
   ]
  },
  {
   "cell_type": "code",
   "execution_count": 20,
   "metadata": {},
   "outputs": [],
   "source": [
    "knn_metrics = zip(train_scores,test_scores)\n"
   ]
  },
  {
   "cell_type": "code",
   "execution_count": 21,
   "metadata": {},
   "outputs": [
    {
     "data": {
      "text/plain": [
       "<zip at 0x209f0898348>"
      ]
     },
     "execution_count": 21,
     "metadata": {},
     "output_type": "execute_result"
    }
   ],
   "source": [
    "knn_metrics"
   ]
  },
  {
   "cell_type": "code",
   "execution_count": 18,
   "metadata": {},
   "outputs": [
    {
     "data": {
      "text/plain": [
       "[0.8396998150519277,\n",
       " 0.7686548584435908,\n",
       " 0.752614169867691,\n",
       " 0.7476881490965998,\n",
       " 0.7457497510314411,\n",
       " 0.7445226917057903,\n",
       " 0.7442737231469626,\n",
       " 0.7439714041826718,\n",
       " 0.743669085218381,\n",
       " 0.7435446009389671]"
      ]
     },
     "execution_count": 18,
     "metadata": {},
     "output_type": "execute_result"
    }
   ],
   "source": [
    "train_scores"
   ]
  },
  {
   "cell_type": "code",
   "execution_count": 25,
   "metadata": {},
   "outputs": [],
   "source": [
    "k_value = [1, 3, 5, 7, 9, 11, 13, 15]"
   ]
  },
  {
   "cell_type": "code",
   "execution_count": 26,
   "metadata": {},
   "outputs": [],
   "source": [
    "knn_metrics = { \"k\": k_value,\n",
    "               \"Train Score\" :train_scores,\n",
    "                    \"Test Sore\": test_scores}"
   ]
  },
  {
   "cell_type": "code",
   "execution_count": 27,
   "metadata": {},
   "outputs": [
    {
     "data": {
      "text/plain": [
       "{'k': [1, 3, 5, 7, 9, 11, 13, 15],\n",
       " 'Train Score': [0.8396998150519277,\n",
       "  0.7686548584435908,\n",
       "  0.752614169867691,\n",
       "  0.7476881490965998,\n",
       "  0.7457497510314411,\n",
       "  0.7445226917057903,\n",
       "  0.7442737231469626,\n",
       "  0.7439714041826718,\n",
       "  0.743669085218381,\n",
       "  0.7435446009389671],\n",
       " 'Test Sore': [0.5833555614830621,\n",
       "  0.6963456921845825,\n",
       "  0.7223259535876234,\n",
       "  0.7337956788476927,\n",
       "  0.7384369165110696,\n",
       "  0.7417978127500667,\n",
       "  0.7432915444118432,\n",
       "  0.7447852760736197,\n",
       "  0.745905574819952,\n",
       "  0.7462790077353961]}"
      ]
     },
     "execution_count": 27,
     "metadata": {},
     "output_type": "execute_result"
    }
   ],
   "source": [
    "knn_metrics"
   ]
  },
  {
   "cell_type": "code",
   "execution_count": null,
   "metadata": {},
   "outputs": [],
   "source": []
  }
 ],
 "metadata": {
  "kernelspec": {
   "display_name": "Python 3",
   "language": "python",
   "name": "python3"
  },
  "language_info": {
   "codemirror_mode": {
    "name": "ipython",
    "version": 3
   },
   "file_extension": ".py",
   "mimetype": "text/x-python",
   "name": "python",
   "nbconvert_exporter": "python",
   "pygments_lexer": "ipython3",
   "version": "3.6.5"
  }
 },
 "nbformat": 4,
 "nbformat_minor": 2
}
